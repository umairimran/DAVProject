{
 "cells": [
  {
   "cell_type": "code",
   "execution_count": 78,
   "metadata": {},
   "outputs": [],
   "source": [
    "import pandas as pd\n",
    "import matplotlib.pyplot as plt\n"
   ]
  },
  {
   "cell_type": "code",
   "execution_count": 79,
   "metadata": {},
   "outputs": [],
   "source": [
    "df = pd.read_csv('data.csv',index_col=False)\n"
   ]
  },
  {
   "cell_type": "markdown",
   "metadata": {},
   "source": [
    "## EDA"
   ]
  },
  {
   "cell_type": "code",
   "execution_count": 80,
   "metadata": {},
   "outputs": [
    {
     "data": {
      "text/html": [
       "<div>\n",
       "<style scoped>\n",
       "    .dataframe tbody tr th:only-of-type {\n",
       "        vertical-align: middle;\n",
       "    }\n",
       "\n",
       "    .dataframe tbody tr th {\n",
       "        vertical-align: top;\n",
       "    }\n",
       "\n",
       "    .dataframe thead th {\n",
       "        text-align: right;\n",
       "    }\n",
       "</style>\n",
       "<table border=\"1\" class=\"dataframe\">\n",
       "  <thead>\n",
       "    <tr style=\"text-align: right;\">\n",
       "      <th></th>\n",
       "      <th>Unnamed: 0</th>\n",
       "      <th>name</th>\n",
       "      <th>health_expenditure</th>\n",
       "      <th>who_region</th>\n",
       "      <th>world_bank_income_level</th>\n",
       "      <th>population_growth_rate</th>\n",
       "      <th>year</th>\n",
       "      <th>population</th>\n",
       "      <th>life_expectancy</th>\n",
       "      <th>health_life_expectancy</th>\n",
       "      <th>Number of new HIV infections</th>\n",
       "      <th>Suicide deaths</th>\n",
       "      <th>Adult obesity</th>\n",
       "      <th>Tobacco use</th>\n",
       "      <th>Alcohol consumption</th>\n",
       "      <th>Prevalence of hypertension</th>\n",
       "    </tr>\n",
       "  </thead>\n",
       "  <tbody>\n",
       "    <tr>\n",
       "      <th>0</th>\n",
       "      <td>0</td>\n",
       "      <td>Afghanistan</td>\n",
       "      <td>21.83</td>\n",
       "      <td>Eastern Mediterranean</td>\n",
       "      <td>Low income (LIC)</td>\n",
       "      <td>2.2%</td>\n",
       "      <td>2000</td>\n",
       "      <td>NaN</td>\n",
       "      <td>55.00</td>\n",
       "      <td>46.80</td>\n",
       "      <td>0.0</td>\n",
       "      <td>4.1</td>\n",
       "      <td>2.1%</td>\n",
       "      <td>20.0%</td>\n",
       "      <td>0.0</td>\n",
       "      <td>44.24983723684582%</td>\n",
       "    </tr>\n",
       "    <tr>\n",
       "      <th>1</th>\n",
       "      <td>1</td>\n",
       "      <td>Afghanistan</td>\n",
       "      <td>21.83</td>\n",
       "      <td>Eastern Mediterranean</td>\n",
       "      <td>Low income (LIC)</td>\n",
       "      <td>2.2%</td>\n",
       "      <td>2001</td>\n",
       "      <td>NaN</td>\n",
       "      <td>55.49</td>\n",
       "      <td>47.23</td>\n",
       "      <td>0.0</td>\n",
       "      <td>4.9</td>\n",
       "      <td>2.1%</td>\n",
       "      <td>20.0%</td>\n",
       "      <td>0.0</td>\n",
       "      <td>35.83969427707559%</td>\n",
       "    </tr>\n",
       "    <tr>\n",
       "      <th>2</th>\n",
       "      <td>2</td>\n",
       "      <td>Afghanistan</td>\n",
       "      <td>21.83</td>\n",
       "      <td>Eastern Mediterranean</td>\n",
       "      <td>Low income (LIC)</td>\n",
       "      <td>2.2%</td>\n",
       "      <td>2002</td>\n",
       "      <td>NaN</td>\n",
       "      <td>55.98</td>\n",
       "      <td>47.66</td>\n",
       "      <td>0.0</td>\n",
       "      <td>4.9</td>\n",
       "      <td>2.1%</td>\n",
       "      <td>20.0%</td>\n",
       "      <td>0.0</td>\n",
       "      <td>43.361477343004715%</td>\n",
       "    </tr>\n",
       "  </tbody>\n",
       "</table>\n",
       "</div>"
      ],
      "text/plain": [
       "   Unnamed: 0         name health_expenditure             who_region  \\\n",
       "0           0  Afghanistan             21.83   Eastern Mediterranean   \n",
       "1           1  Afghanistan             21.83   Eastern Mediterranean   \n",
       "2           2  Afghanistan             21.83   Eastern Mediterranean   \n",
       "\n",
       "  world_bank_income_level population_growth_rate  year  population  \\\n",
       "0        Low income (LIC)                   2.2%  2000         NaN   \n",
       "1        Low income (LIC)                   2.2%  2001         NaN   \n",
       "2        Low income (LIC)                   2.2%  2002         NaN   \n",
       "\n",
       "   life_expectancy  health_life_expectancy  Number of new HIV infections  \\\n",
       "0            55.00                   46.80                           0.0   \n",
       "1            55.49                   47.23                           0.0   \n",
       "2            55.98                   47.66                           0.0   \n",
       "\n",
       "   Suicide deaths Adult obesity Tobacco use  Alcohol consumption  \\\n",
       "0             4.1          2.1%       20.0%                  0.0   \n",
       "1             4.9          2.1%       20.0%                  0.0   \n",
       "2             4.9          2.1%       20.0%                  0.0   \n",
       "\n",
       "  Prevalence of hypertension  \n",
       "0         44.24983723684582%  \n",
       "1         35.83969427707559%  \n",
       "2        43.361477343004715%  "
      ]
     },
     "execution_count": 80,
     "metadata": {},
     "output_type": "execute_result"
    }
   ],
   "source": [
    "df.head(3)"
   ]
  },
  {
   "cell_type": "code",
   "execution_count": 81,
   "metadata": {},
   "outputs": [],
   "source": [
    "df = df.drop(df.columns[0], axis=1)"
   ]
  },
  {
   "cell_type": "code",
   "execution_count": 82,
   "metadata": {},
   "outputs": [
    {
     "data": {
      "text/html": [
       "<div>\n",
       "<style scoped>\n",
       "    .dataframe tbody tr th:only-of-type {\n",
       "        vertical-align: middle;\n",
       "    }\n",
       "\n",
       "    .dataframe tbody tr th {\n",
       "        vertical-align: top;\n",
       "    }\n",
       "\n",
       "    .dataframe thead th {\n",
       "        text-align: right;\n",
       "    }\n",
       "</style>\n",
       "<table border=\"1\" class=\"dataframe\">\n",
       "  <thead>\n",
       "    <tr style=\"text-align: right;\">\n",
       "      <th></th>\n",
       "      <th>name</th>\n",
       "      <th>health_expenditure</th>\n",
       "      <th>who_region</th>\n",
       "      <th>world_bank_income_level</th>\n",
       "      <th>population_growth_rate</th>\n",
       "      <th>year</th>\n",
       "      <th>population</th>\n",
       "      <th>life_expectancy</th>\n",
       "      <th>health_life_expectancy</th>\n",
       "      <th>Number of new HIV infections</th>\n",
       "      <th>Suicide deaths</th>\n",
       "      <th>Adult obesity</th>\n",
       "      <th>Tobacco use</th>\n",
       "      <th>Alcohol consumption</th>\n",
       "      <th>Prevalence of hypertension</th>\n",
       "    </tr>\n",
       "  </thead>\n",
       "  <tbody>\n",
       "    <tr>\n",
       "      <th>0</th>\n",
       "      <td>Afghanistan</td>\n",
       "      <td>21.83</td>\n",
       "      <td>Eastern Mediterranean</td>\n",
       "      <td>Low income (LIC)</td>\n",
       "      <td>2.2%</td>\n",
       "      <td>2000</td>\n",
       "      <td>NaN</td>\n",
       "      <td>55.00</td>\n",
       "      <td>46.80</td>\n",
       "      <td>0.0</td>\n",
       "      <td>4.1</td>\n",
       "      <td>2.1%</td>\n",
       "      <td>20.0%</td>\n",
       "      <td>0.0</td>\n",
       "      <td>44.24983723684582%</td>\n",
       "    </tr>\n",
       "    <tr>\n",
       "      <th>1</th>\n",
       "      <td>Afghanistan</td>\n",
       "      <td>21.83</td>\n",
       "      <td>Eastern Mediterranean</td>\n",
       "      <td>Low income (LIC)</td>\n",
       "      <td>2.2%</td>\n",
       "      <td>2001</td>\n",
       "      <td>NaN</td>\n",
       "      <td>55.49</td>\n",
       "      <td>47.23</td>\n",
       "      <td>0.0</td>\n",
       "      <td>4.9</td>\n",
       "      <td>2.1%</td>\n",
       "      <td>20.0%</td>\n",
       "      <td>0.0</td>\n",
       "      <td>35.83969427707559%</td>\n",
       "    </tr>\n",
       "    <tr>\n",
       "      <th>2</th>\n",
       "      <td>Afghanistan</td>\n",
       "      <td>21.83</td>\n",
       "      <td>Eastern Mediterranean</td>\n",
       "      <td>Low income (LIC)</td>\n",
       "      <td>2.2%</td>\n",
       "      <td>2002</td>\n",
       "      <td>NaN</td>\n",
       "      <td>55.98</td>\n",
       "      <td>47.66</td>\n",
       "      <td>0.0</td>\n",
       "      <td>4.9</td>\n",
       "      <td>2.1%</td>\n",
       "      <td>20.0%</td>\n",
       "      <td>0.0</td>\n",
       "      <td>43.361477343004715%</td>\n",
       "    </tr>\n",
       "  </tbody>\n",
       "</table>\n",
       "</div>"
      ],
      "text/plain": [
       "          name health_expenditure             who_region  \\\n",
       "0  Afghanistan             21.83   Eastern Mediterranean   \n",
       "1  Afghanistan             21.83   Eastern Mediterranean   \n",
       "2  Afghanistan             21.83   Eastern Mediterranean   \n",
       "\n",
       "  world_bank_income_level population_growth_rate  year  population  \\\n",
       "0        Low income (LIC)                   2.2%  2000         NaN   \n",
       "1        Low income (LIC)                   2.2%  2001         NaN   \n",
       "2        Low income (LIC)                   2.2%  2002         NaN   \n",
       "\n",
       "   life_expectancy  health_life_expectancy  Number of new HIV infections  \\\n",
       "0            55.00                   46.80                           0.0   \n",
       "1            55.49                   47.23                           0.0   \n",
       "2            55.98                   47.66                           0.0   \n",
       "\n",
       "   Suicide deaths Adult obesity Tobacco use  Alcohol consumption  \\\n",
       "0             4.1          2.1%       20.0%                  0.0   \n",
       "1             4.9          2.1%       20.0%                  0.0   \n",
       "2             4.9          2.1%       20.0%                  0.0   \n",
       "\n",
       "  Prevalence of hypertension  \n",
       "0         44.24983723684582%  \n",
       "1         35.83969427707559%  \n",
       "2        43.361477343004715%  "
      ]
     },
     "execution_count": 82,
     "metadata": {},
     "output_type": "execute_result"
    }
   ],
   "source": [
    "df.head(3) "
   ]
  },
  {
   "cell_type": "code",
   "execution_count": 83,
   "metadata": {},
   "outputs": [
    {
     "name": "stdout",
     "output_type": "stream",
     "text": [
      "(4850, 15)\n",
      "15\n"
     ]
    }
   ],
   "source": [
    "print(df.shape)\n",
    "print(len(df.columns))"
   ]
  },
  {
   "cell_type": "code",
   "execution_count": 84,
   "metadata": {},
   "outputs": [
    {
     "name": "stdout",
     "output_type": "stream",
     "text": [
      "<class 'pandas.core.frame.DataFrame'>\n",
      "RangeIndex: 4850 entries, 0 to 4849\n",
      "Data columns (total 15 columns):\n",
      " #   Column                        Non-Null Count  Dtype  \n",
      "---  ------                        --------------  -----  \n",
      " 0   name                          4850 non-null   object \n",
      " 1   health_expenditure            4850 non-null   object \n",
      " 2   who_region                    4850 non-null   object \n",
      " 3   world_bank_income_level       4725 non-null   object \n",
      " 4   population_growth_rate        4850 non-null   object \n",
      " 5   year                          4850 non-null   int64  \n",
      " 6   population                    3557 non-null   float64\n",
      " 7   life_expectancy               4425 non-null   float64\n",
      " 8   health_life_expectancy        4850 non-null   float64\n",
      " 9   Number of new HIV infections  3350 non-null   float64\n",
      " 10  Suicide deaths                4550 non-null   float64\n",
      " 11  Adult obesity                 4850 non-null   object \n",
      " 12  Tobacco use                   4850 non-null   object \n",
      " 13  Alcohol consumption           4850 non-null   float64\n",
      " 14  Prevalence of hypertension    4850 non-null   object \n",
      "dtypes: float64(6), int64(1), object(8)\n",
      "memory usage: 568.5+ KB\n"
     ]
    }
   ],
   "source": [
    "df.info()"
   ]
  },
  {
   "cell_type": "code",
   "execution_count": 85,
   "metadata": {},
   "outputs": [
    {
     "data": {
      "text/plain": [
       "Tobacco use\n",
       "20.0%                  41\n",
       "30.0%                  17\n",
       "23.3%                   2\n",
       "26.7%                   2\n",
       "27.253043320427253%     1\n",
       "                       ..\n",
       "26.517340686868067%     1\n",
       "27.92098005921642%      1\n",
       "27.17984737191993%      1\n",
       "29.792601170014727%     1\n",
       "24.86339621522008%      1\n",
       "Name: count, Length: 4792, dtype: int64"
      ]
     },
     "execution_count": 85,
     "metadata": {},
     "output_type": "execute_result"
    }
   ],
   "source": [
    "df['Tobacco use'].value_counts()"
   ]
  },
  {
   "cell_type": "code",
   "execution_count": 86,
   "metadata": {},
   "outputs": [
    {
     "data": {
      "text/html": [
       "<div>\n",
       "<style scoped>\n",
       "    .dataframe tbody tr th:only-of-type {\n",
       "        vertical-align: middle;\n",
       "    }\n",
       "\n",
       "    .dataframe tbody tr th {\n",
       "        vertical-align: top;\n",
       "    }\n",
       "\n",
       "    .dataframe thead th {\n",
       "        text-align: right;\n",
       "    }\n",
       "</style>\n",
       "<table border=\"1\" class=\"dataframe\">\n",
       "  <thead>\n",
       "    <tr style=\"text-align: right;\">\n",
       "      <th></th>\n",
       "      <th>year</th>\n",
       "      <th>population</th>\n",
       "      <th>life_expectancy</th>\n",
       "      <th>health_life_expectancy</th>\n",
       "      <th>Number of new HIV infections</th>\n",
       "      <th>Suicide deaths</th>\n",
       "      <th>Alcohol consumption</th>\n",
       "    </tr>\n",
       "  </thead>\n",
       "  <tbody>\n",
       "    <tr>\n",
       "      <th>count</th>\n",
       "      <td>4850.000000</td>\n",
       "      <td>3557.000000</td>\n",
       "      <td>4425.000000</td>\n",
       "      <td>4850.000000</td>\n",
       "      <td>3350.000000</td>\n",
       "      <td>4550.000000</td>\n",
       "      <td>4850.000000</td>\n",
       "    </tr>\n",
       "    <tr>\n",
       "      <th>mean</th>\n",
       "      <td>2012.000000</td>\n",
       "      <td>76.357324</td>\n",
       "      <td>69.788701</td>\n",
       "      <td>54.752986</td>\n",
       "      <td>0.856269</td>\n",
       "      <td>10.355890</td>\n",
       "      <td>2.775189</td>\n",
       "    </tr>\n",
       "    <tr>\n",
       "      <th>std</th>\n",
       "      <td>7.211846</td>\n",
       "      <td>166.510988</td>\n",
       "      <td>8.522888</td>\n",
       "      <td>12.340527</td>\n",
       "      <td>2.231096</td>\n",
       "      <td>8.754368</td>\n",
       "      <td>1.628002</td>\n",
       "    </tr>\n",
       "    <tr>\n",
       "      <th>min</th>\n",
       "      <td>2000.000000</td>\n",
       "      <td>0.000000</td>\n",
       "      <td>31.300000</td>\n",
       "      <td>28.000000</td>\n",
       "      <td>-0.400000</td>\n",
       "      <td>-2.000000</td>\n",
       "      <td>0.000000</td>\n",
       "    </tr>\n",
       "    <tr>\n",
       "      <th>25%</th>\n",
       "      <td>2006.000000</td>\n",
       "      <td>5.300000</td>\n",
       "      <td>64.000000</td>\n",
       "      <td>45.980989</td>\n",
       "      <td>0.000000</td>\n",
       "      <td>4.800000</td>\n",
       "      <td>1.364351</td>\n",
       "    </tr>\n",
       "    <tr>\n",
       "      <th>50%</th>\n",
       "      <td>2012.000000</td>\n",
       "      <td>13.000000</td>\n",
       "      <td>71.660000</td>\n",
       "      <td>56.771399</td>\n",
       "      <td>0.100000</td>\n",
       "      <td>8.000000</td>\n",
       "      <td>2.763555</td>\n",
       "    </tr>\n",
       "    <tr>\n",
       "      <th>75%</th>\n",
       "      <td>2018.000000</td>\n",
       "      <td>48.100000</td>\n",
       "      <td>75.950000</td>\n",
       "      <td>64.980000</td>\n",
       "      <td>0.600000</td>\n",
       "      <td>12.900000</td>\n",
       "      <td>4.222049</td>\n",
       "    </tr>\n",
       "    <tr>\n",
       "      <th>max</th>\n",
       "      <td>2024.000000</td>\n",
       "      <td>995.000000</td>\n",
       "      <td>84.950000</td>\n",
       "      <td>74.100000</td>\n",
       "      <td>21.000000</td>\n",
       "      <td>92.600000</td>\n",
       "      <td>5.600000</td>\n",
       "    </tr>\n",
       "  </tbody>\n",
       "</table>\n",
       "</div>"
      ],
      "text/plain": [
       "              year   population  life_expectancy  health_life_expectancy  \\\n",
       "count  4850.000000  3557.000000      4425.000000             4850.000000   \n",
       "mean   2012.000000    76.357324        69.788701               54.752986   \n",
       "std       7.211846   166.510988         8.522888               12.340527   \n",
       "min    2000.000000     0.000000        31.300000               28.000000   \n",
       "25%    2006.000000     5.300000        64.000000               45.980989   \n",
       "50%    2012.000000    13.000000        71.660000               56.771399   \n",
       "75%    2018.000000    48.100000        75.950000               64.980000   \n",
       "max    2024.000000   995.000000        84.950000               74.100000   \n",
       "\n",
       "       Number of new HIV infections  Suicide deaths  Alcohol consumption  \n",
       "count                   3350.000000     4550.000000          4850.000000  \n",
       "mean                       0.856269       10.355890             2.775189  \n",
       "std                        2.231096        8.754368             1.628002  \n",
       "min                       -0.400000       -2.000000             0.000000  \n",
       "25%                        0.000000        4.800000             1.364351  \n",
       "50%                        0.100000        8.000000             2.763555  \n",
       "75%                        0.600000       12.900000             4.222049  \n",
       "max                       21.000000       92.600000             5.600000  "
      ]
     },
     "execution_count": 86,
     "metadata": {},
     "output_type": "execute_result"
    }
   ],
   "source": [
    "df.describe()"
   ]
  },
  {
   "cell_type": "code",
   "execution_count": 87,
   "metadata": {},
   "outputs": [
    {
     "data": {
      "text/html": [
       "<div>\n",
       "<style scoped>\n",
       "    .dataframe tbody tr th:only-of-type {\n",
       "        vertical-align: middle;\n",
       "    }\n",
       "\n",
       "    .dataframe tbody tr th {\n",
       "        vertical-align: top;\n",
       "    }\n",
       "\n",
       "    .dataframe thead th {\n",
       "        text-align: right;\n",
       "    }\n",
       "</style>\n",
       "<table border=\"1\" class=\"dataframe\">\n",
       "  <thead>\n",
       "    <tr style=\"text-align: right;\">\n",
       "      <th></th>\n",
       "      <th>name</th>\n",
       "      <th>health_expenditure</th>\n",
       "      <th>who_region</th>\n",
       "      <th>world_bank_income_level</th>\n",
       "      <th>population_growth_rate</th>\n",
       "      <th>Adult obesity</th>\n",
       "      <th>Tobacco use</th>\n",
       "      <th>Prevalence of hypertension</th>\n",
       "    </tr>\n",
       "  </thead>\n",
       "  <tbody>\n",
       "    <tr>\n",
       "      <th>count</th>\n",
       "      <td>4850</td>\n",
       "      <td>4850</td>\n",
       "      <td>4850</td>\n",
       "      <td>4725</td>\n",
       "      <td>4850</td>\n",
       "      <td>4850</td>\n",
       "      <td>4850</td>\n",
       "      <td>4850</td>\n",
       "    </tr>\n",
       "    <tr>\n",
       "      <th>unique</th>\n",
       "      <td>194</td>\n",
       "      <td>183</td>\n",
       "      <td>7</td>\n",
       "      <td>4</td>\n",
       "      <td>93</td>\n",
       "      <td>4812</td>\n",
       "      <td>4792</td>\n",
       "      <td>4826</td>\n",
       "    </tr>\n",
       "    <tr>\n",
       "      <th>top</th>\n",
       "      <td>Afghanistan</td>\n",
       "      <td>5.38</td>\n",
       "      <td>Europe</td>\n",
       "      <td>High income (HIC)</td>\n",
       "      <td>nan%</td>\n",
       "      <td>2.1%</td>\n",
       "      <td>20.0%</td>\n",
       "      <td>41.1%</td>\n",
       "    </tr>\n",
       "    <tr>\n",
       "      <th>freq</th>\n",
       "      <td>25</td>\n",
       "      <td>50</td>\n",
       "      <td>1325</td>\n",
       "      <td>1450</td>\n",
       "      <td>700</td>\n",
       "      <td>18</td>\n",
       "      <td>41</td>\n",
       "      <td>19</td>\n",
       "    </tr>\n",
       "  </tbody>\n",
       "</table>\n",
       "</div>"
      ],
      "text/plain": [
       "               name health_expenditure who_region world_bank_income_level  \\\n",
       "count          4850               4850       4850                    4725   \n",
       "unique          194                183          7                       4   \n",
       "top     Afghanistan              5.38      Europe       High income (HIC)   \n",
       "freq             25                 50       1325                    1450   \n",
       "\n",
       "       population_growth_rate Adult obesity Tobacco use  \\\n",
       "count                    4850          4850        4850   \n",
       "unique                     93          4812        4792   \n",
       "top                      nan%          2.1%       20.0%   \n",
       "freq                      700            18          41   \n",
       "\n",
       "       Prevalence of hypertension  \n",
       "count                        4850  \n",
       "unique                       4826  \n",
       "top                         41.1%  \n",
       "freq                           19  "
      ]
     },
     "execution_count": 87,
     "metadata": {},
     "output_type": "execute_result"
    }
   ],
   "source": [
    "df.describe(include='object')\n"
   ]
  },
  {
   "cell_type": "code",
   "execution_count": 88,
   "metadata": {},
   "outputs": [
    {
     "data": {
      "text/plain": [
       "name                               0\n",
       "health_expenditure                 0\n",
       "who_region                         0\n",
       "world_bank_income_level          125\n",
       "population_growth_rate             0\n",
       "year                               0\n",
       "population                      1293\n",
       "life_expectancy                  425\n",
       "health_life_expectancy             0\n",
       "Number of new HIV infections    1500\n",
       "Suicide deaths                   300\n",
       "Adult obesity                      0\n",
       "Tobacco use                        0\n",
       "Alcohol consumption                0\n",
       "Prevalence of hypertension         0\n",
       "dtype: int64"
      ]
     },
     "execution_count": 88,
     "metadata": {},
     "output_type": "execute_result"
    }
   ],
   "source": [
    "df.isnull().sum()"
   ]
  },
  {
   "cell_type": "code",
   "execution_count": 89,
   "metadata": {},
   "outputs": [
    {
     "data": {
      "text/plain": [
       "name                             0.000000\n",
       "health_expenditure               0.000000\n",
       "who_region                       0.000000\n",
       "world_bank_income_level          2.577320\n",
       "population_growth_rate           0.000000\n",
       "year                             0.000000\n",
       "population                      26.659794\n",
       "life_expectancy                  8.762887\n",
       "health_life_expectancy           0.000000\n",
       "Number of new HIV infections    30.927835\n",
       "Suicide deaths                   6.185567\n",
       "Adult obesity                    0.000000\n",
       "Tobacco use                      0.000000\n",
       "Alcohol consumption              0.000000\n",
       "Prevalence of hypertension       0.000000\n",
       "dtype: float64"
      ]
     },
     "execution_count": 89,
     "metadata": {},
     "output_type": "execute_result"
    }
   ],
   "source": [
    "missing_percentage = df.isnull().mean() * 100\n",
    "missing_percentage"
   ]
  },
  {
   "cell_type": "code",
   "execution_count": 90,
   "metadata": {},
   "outputs": [
    {
     "data": {
      "text/plain": [
       "name                             object\n",
       "health_expenditure               object\n",
       "who_region                       object\n",
       "world_bank_income_level          object\n",
       "population_growth_rate           object\n",
       "year                              int64\n",
       "population                      float64\n",
       "life_expectancy                 float64\n",
       "health_life_expectancy          float64\n",
       "Number of new HIV infections    float64\n",
       "Suicide deaths                  float64\n",
       "Adult obesity                    object\n",
       "Tobacco use                      object\n",
       "Alcohol consumption             float64\n",
       "Prevalence of hypertension       object\n",
       "dtype: object"
      ]
     },
     "execution_count": 90,
     "metadata": {},
     "output_type": "execute_result"
    }
   ],
   "source": [
    "df.dtypes\n"
   ]
  },
  {
   "cell_type": "code",
   "execution_count": 91,
   "metadata": {},
   "outputs": [
    {
     "data": {
      "text/plain": [
       "name                             194\n",
       "health_expenditure               183\n",
       "who_region                         7\n",
       "world_bank_income_level            4\n",
       "population_growth_rate            93\n",
       "year                              25\n",
       "population                      1048\n",
       "life_expectancy                 2245\n",
       "health_life_expectancy          4082\n",
       "Number of new HIV infections     138\n",
       "Suicide deaths                   410\n",
       "Adult obesity                   4812\n",
       "Tobacco use                     4792\n",
       "Alcohol consumption             4793\n",
       "Prevalence of hypertension      4826\n",
       "dtype: int64"
      ]
     },
     "execution_count": 91,
     "metadata": {},
     "output_type": "execute_result"
    }
   ],
   "source": [
    "df.nunique()"
   ]
  },
  {
   "cell_type": "code",
   "execution_count": 92,
   "metadata": {},
   "outputs": [
    {
     "data": {
      "text/plain": [
       "np.int64(0)"
      ]
     },
     "execution_count": 92,
     "metadata": {},
     "output_type": "execute_result"
    }
   ],
   "source": [
    "df.duplicated().sum()"
   ]
  },
  {
   "cell_type": "code",
   "execution_count": 93,
   "metadata": {},
   "outputs": [
    {
     "data": {
      "text/plain": [
       "who_region\n",
       "Europe                   1325\n",
       "Africa                   1175\n",
       "Americas                  875\n",
       "Western Pacific           675\n",
       "Eastern Mediterranean     500\n",
       "South East Asia           250\n",
       "Low income (LIC)           50\n",
       "Name: count, dtype: int64"
      ]
     },
     "execution_count": 93,
     "metadata": {},
     "output_type": "execute_result"
    }
   ],
   "source": [
    "df['who_region'].value_counts()"
   ]
  },
  {
   "cell_type": "code",
   "execution_count": 94,
   "metadata": {},
   "outputs": [
    {
     "data": {
      "text/plain": [
       "world_bank_income_level\n",
       "High income (HIC)            1450\n",
       "Lower-middle income (LMC)    1325\n",
       "Upper-middle income (UMC)    1300\n",
       "Low income (LIC)              650\n",
       "Name: count, dtype: int64"
      ]
     },
     "execution_count": 94,
     "metadata": {},
     "output_type": "execute_result"
    }
   ],
   "source": [
    "df['world_bank_income_level'].value_counts()"
   ]
  },
  {
   "cell_type": "code",
   "execution_count": 95,
   "metadata": {},
   "outputs": [
    {
     "data": {
      "text/html": [
       "<div>\n",
       "<style scoped>\n",
       "    .dataframe tbody tr th:only-of-type {\n",
       "        vertical-align: middle;\n",
       "    }\n",
       "\n",
       "    .dataframe tbody tr th {\n",
       "        vertical-align: top;\n",
       "    }\n",
       "\n",
       "    .dataframe thead th {\n",
       "        text-align: right;\n",
       "    }\n",
       "</style>\n",
       "<table border=\"1\" class=\"dataframe\">\n",
       "  <thead>\n",
       "    <tr style=\"text-align: right;\">\n",
       "      <th></th>\n",
       "      <th>year</th>\n",
       "      <th>population</th>\n",
       "      <th>life_expectancy</th>\n",
       "      <th>health_life_expectancy</th>\n",
       "      <th>Number of new HIV infections</th>\n",
       "      <th>Suicide deaths</th>\n",
       "      <th>Alcohol consumption</th>\n",
       "    </tr>\n",
       "  </thead>\n",
       "  <tbody>\n",
       "    <tr>\n",
       "      <th>year</th>\n",
       "      <td>1.000000</td>\n",
       "      <td>-0.017981</td>\n",
       "      <td>0.158247</td>\n",
       "      <td>0.058832</td>\n",
       "      <td>-0.167268</td>\n",
       "      <td>-0.091381</td>\n",
       "      <td>0.022821</td>\n",
       "    </tr>\n",
       "    <tr>\n",
       "      <th>population</th>\n",
       "      <td>-0.017981</td>\n",
       "      <td>1.000000</td>\n",
       "      <td>0.066236</td>\n",
       "      <td>0.061046</td>\n",
       "      <td>-0.091566</td>\n",
       "      <td>0.059867</td>\n",
       "      <td>-0.034412</td>\n",
       "    </tr>\n",
       "    <tr>\n",
       "      <th>life_expectancy</th>\n",
       "      <td>0.158247</td>\n",
       "      <td>0.066236</td>\n",
       "      <td>1.000000</td>\n",
       "      <td>0.279863</td>\n",
       "      <td>-0.555408</td>\n",
       "      <td>-0.116359</td>\n",
       "      <td>0.018905</td>\n",
       "    </tr>\n",
       "    <tr>\n",
       "      <th>health_life_expectancy</th>\n",
       "      <td>0.058832</td>\n",
       "      <td>0.061046</td>\n",
       "      <td>0.279863</td>\n",
       "      <td>1.000000</td>\n",
       "      <td>-0.137101</td>\n",
       "      <td>0.000798</td>\n",
       "      <td>0.031676</td>\n",
       "    </tr>\n",
       "    <tr>\n",
       "      <th>Number of new HIV infections</th>\n",
       "      <td>-0.167268</td>\n",
       "      <td>-0.091566</td>\n",
       "      <td>-0.555408</td>\n",
       "      <td>-0.137101</td>\n",
       "      <td>1.000000</td>\n",
       "      <td>0.447640</td>\n",
       "      <td>0.014399</td>\n",
       "    </tr>\n",
       "    <tr>\n",
       "      <th>Suicide deaths</th>\n",
       "      <td>-0.091381</td>\n",
       "      <td>0.059867</td>\n",
       "      <td>-0.116359</td>\n",
       "      <td>0.000798</td>\n",
       "      <td>0.447640</td>\n",
       "      <td>1.000000</td>\n",
       "      <td>0.019035</td>\n",
       "    </tr>\n",
       "    <tr>\n",
       "      <th>Alcohol consumption</th>\n",
       "      <td>0.022821</td>\n",
       "      <td>-0.034412</td>\n",
       "      <td>0.018905</td>\n",
       "      <td>0.031676</td>\n",
       "      <td>0.014399</td>\n",
       "      <td>0.019035</td>\n",
       "      <td>1.000000</td>\n",
       "    </tr>\n",
       "  </tbody>\n",
       "</table>\n",
       "</div>"
      ],
      "text/plain": [
       "                                  year  population  life_expectancy  \\\n",
       "year                          1.000000   -0.017981         0.158247   \n",
       "population                   -0.017981    1.000000         0.066236   \n",
       "life_expectancy               0.158247    0.066236         1.000000   \n",
       "health_life_expectancy        0.058832    0.061046         0.279863   \n",
       "Number of new HIV infections -0.167268   -0.091566        -0.555408   \n",
       "Suicide deaths               -0.091381    0.059867        -0.116359   \n",
       "Alcohol consumption           0.022821   -0.034412         0.018905   \n",
       "\n",
       "                              health_life_expectancy  \\\n",
       "year                                        0.058832   \n",
       "population                                  0.061046   \n",
       "life_expectancy                             0.279863   \n",
       "health_life_expectancy                      1.000000   \n",
       "Number of new HIV infections               -0.137101   \n",
       "Suicide deaths                              0.000798   \n",
       "Alcohol consumption                         0.031676   \n",
       "\n",
       "                              Number of new HIV infections  Suicide deaths  \\\n",
       "year                                             -0.167268       -0.091381   \n",
       "population                                       -0.091566        0.059867   \n",
       "life_expectancy                                  -0.555408       -0.116359   \n",
       "health_life_expectancy                           -0.137101        0.000798   \n",
       "Number of new HIV infections                      1.000000        0.447640   \n",
       "Suicide deaths                                    0.447640        1.000000   \n",
       "Alcohol consumption                               0.014399        0.019035   \n",
       "\n",
       "                              Alcohol consumption  \n",
       "year                                     0.022821  \n",
       "population                              -0.034412  \n",
       "life_expectancy                          0.018905  \n",
       "health_life_expectancy                   0.031676  \n",
       "Number of new HIV infections             0.014399  \n",
       "Suicide deaths                           0.019035  \n",
       "Alcohol consumption                      1.000000  "
      ]
     },
     "execution_count": 95,
     "metadata": {},
     "output_type": "execute_result"
    }
   ],
   "source": [
    "df.select_dtypes(include=['int64','float64']).corr()"
   ]
  },
  {
   "cell_type": "code",
   "execution_count": null,
   "metadata": {},
   "outputs": [],
   "source": []
  },
  {
   "cell_type": "code",
   "execution_count": 96,
   "metadata": {},
   "outputs": [
    {
     "data": {
      "text/plain": [
       "Text(0.5, 1.0, 'Distribution of Life Expectancy')"
      ]
     },
     "execution_count": 96,
     "metadata": {},
     "output_type": "execute_result"
    },
    {
     "data": {
      "image/png": "[encoded data removed]",
      "text/plain": [
       "<Figure size 640x480 with 1 Axes>"
      ]
     },
     "metadata": {},
     "output_type": "display_data"
    }
   ],
   "source": [
    "df['life_expectancy'].hist(bins=20)\n",
    "plt.xlabel('Life Expectancy')\n",
    "plt.ylabel('Frequency')\n",
    "plt.title('Distribution of Life Expectancy')\n"
   ]
  },
  {
   "cell_type": "code",
   "execution_count": 97,
   "metadata": {},
   "outputs": [
    {
     "data": {
      "text/plain": [
       "<Axes: >"
      ]
     },
     "execution_count": 97,
     "metadata": {},
     "output_type": "execute_result"
    },
    {
     "data": {
      "image/png": "[encoded data removed]",
      "text/plain": [
       "<Figure size 640x480 with 1 Axes>"
      ]
     },
     "metadata": {},
     "output_type": "display_data"
    }
   ],
   "source": [
    "df['health_expenditure'] = pd.to_numeric(df['health_expenditure'], errors='coerce')\n",
    "df.boxplot(column='health_expenditure')\n"
   ]
  },
  {
   "cell_type": "code",
   "execution_count": null,
   "metadata": {},
   "outputs": [],
   "source": []
  },
  {
   "cell_type": "code",
   "execution_count": 98,
   "metadata": {},
   "outputs": [
    {
     "data": {
      "image/png": "[encoded data removed]",
      "text/plain": [
       "<Figure size 1000x600 with 1 Axes>"
      ]
     },
     "metadata": {},
     "output_type": "display_data"
    }
   ],
   "source": [
    "yearly_mean = df.select_dtypes(include=['int64', 'float64']).groupby('year').mean()\n",
    "\n",
    "yearly_mean_reduced = yearly_mean[::5]\n",
    "\n",
    "plt.figure(figsize=(10, 6))\n",
    "for column in yearly_mean_reduced.columns:\n",
    "    plt.plot(yearly_mean_reduced.index, yearly_mean_reduced[column], marker='o', label=column)\n",
    "\n",
    "plt.xlabel('Year')\n",
    "plt.ylabel('Mean Values')\n",
    "plt.title('Mean Values of Numeric Features by Year')\n",
    "plt.legend(loc='upper left', bbox_to_anchor=(1, 1))\n",
    "plt.xticks(rotation=45)\n",
    "plt.show()\n"
   ]
  },
  {
   "cell_type": "code",
   "execution_count": 99,
   "metadata": {},
   "outputs": [
    {
     "data": {
      "text/plain": [
       "who_region\n",
       "Africa                   60.283304\n",
       "Americas                 73.149484\n",
       "Eastern Mediterranean    71.162400\n",
       "Europe                   75.938340\n",
       "Low income (LIC)         61.225000\n",
       "South East Asia          70.322200\n",
       "Western Pacific          71.138667\n",
       "Name: life_expectancy, dtype: float64"
      ]
     },
     "execution_count": 99,
     "metadata": {},
     "output_type": "execute_result"
    }
   ],
   "source": [
    "df.groupby('who_region')['life_expectancy'].mean()\n"
   ]
  },
  {
   "cell_type": "code",
   "execution_count": 100,
   "metadata": {},
   "outputs": [
    {
     "data": {
      "text/plain": [
       "Tobacco use\n",
       "20.0%                  41\n",
       "30.0%                  17\n",
       "23.3%                   2\n",
       "26.7%                   2\n",
       "27.253043320427253%     1\n",
       "                       ..\n",
       "26.517340686868067%     1\n",
       "27.92098005921642%      1\n",
       "27.17984737191993%      1\n",
       "29.792601170014727%     1\n",
       "24.86339621522008%      1\n",
       "Name: count, Length: 4792, dtype: int64"
      ]
     },
     "execution_count": 100,
     "metadata": {},
     "output_type": "execute_result"
    }
   ],
   "source": [
    "df['Tobacco use'].value_counts()\n"
   ]
  },
  {
   "cell_type": "code",
   "execution_count": null,
   "metadata": {},
   "outputs": [],
   "source": []
  },
  {
   "cell_type": "code",
   "execution_count": 101,
   "metadata": {},
   "outputs": [
    {
     "data": {
      "text/plain": [
       "Text(0.5, 1.0, 'Distribution of WHO Regions')"
      ]
     },
     "execution_count": 101,
     "metadata": {},
     "output_type": "execute_result"
    },
    {
     "data": {
      "image/png": "[encoded data removed]",
      "text/plain": [
       "<Figure size 640x480 with 1 Axes>"
      ]
     },
     "metadata": {},
     "output_type": "display_data"
    }
   ],
   "source": [
    "df['who_region'].value_counts().plot(kind='bar')\n",
    "plt.xlabel('WHO Region')\n",
    "plt.ylabel('Count')\n",
    "plt.title('Distribution of WHO Regions')\n"
   ]
  },
  {
   "cell_type": "code",
   "execution_count": 102,
   "metadata": {},
   "outputs": [
    {
     "data": {
      "image/png": "[encoded data removed]",
      "text/plain": [
       "<Figure size 800x600 with 1 Axes>"
      ]
     },
     "metadata": {},
     "output_type": "display_data"
    }
   ],
   "source": [
    "df_sampled = df.sample(frac=0.1, random_state=1)\n",
    "\n",
    "plt.figure(figsize=(8, 6))\n",
    "plt.scatter(df_sampled['health_expenditure'], df_sampled['life_expectancy'], alpha=0.6)\n",
    "plt.xlabel('Health Expenditure')\n",
    "plt.ylabel('Life Expectancy')\n",
    "plt.title('Life Expectancy vs Health Expenditure')\n",
    "plt.show()"
   ]
  },
  {
   "cell_type": "markdown",
   "metadata": {},
   "source": [
    "## Encoding"
   ]
  },
  {
   "cell_type": "code",
   "execution_count": 103,
   "metadata": {},
   "outputs": [],
   "source": [
    "from sklearn.preprocessing import LabelEncoder\n",
    "from category_encoders import BinaryEncoder\n",
    "import joblib\n"
   ]
  },
  {
   "cell_type": "markdown",
   "metadata": {},
   "source": [
    "##### Ordinal Columns"
   ]
  },
  {
   "cell_type": "code",
   "execution_count": 104,
   "metadata": {},
   "outputs": [
    {
     "data": {
      "text/plain": [
       "['who_region_encoder.pkl']"
      ]
     },
     "execution_count": 104,
     "metadata": {},
     "output_type": "execute_result"
    }
   ],
   "source": [
    "label_encoder = LabelEncoder()\n",
    "\n",
    "\n",
    "df['who_region'] = label_encoder.fit_transform(df['who_region'])\n",
    "joblib.dump(label_encoder, 'who_region_encoder.pkl')\n"
   ]
  },
  {
   "cell_type": "code",
   "execution_count": 105,
   "metadata": {},
   "outputs": [
    {
     "data": {
      "text/plain": [
       "['world_bank_income_level_encoder.pkl']"
      ]
     },
     "execution_count": 105,
     "metadata": {},
     "output_type": "execute_result"
    }
   ],
   "source": [
    "label_encoder = LabelEncoder()\n",
    "\n",
    "df['world_bank_income_level'] = label_encoder.fit_transform(df['world_bank_income_level'])\n",
    "joblib.dump(label_encoder, 'world_bank_income_level_encoder.pkl')\n"
   ]
  },
  {
   "cell_type": "markdown",
   "metadata": {},
   "source": [
    "##### Nominal columns"
   ]
  },
  {
   "cell_type": "code",
   "execution_count": 106,
   "metadata": {},
   "outputs": [],
   "source": [
    "# encoder = BinaryEncoder(cols=['name'])\n",
    "# df = encoder.fit_transform(df)\n",
    "\n",
    "# joblib.dump(encoder, 'name_encoder.pkl')"
   ]
  },
  {
   "cell_type": "markdown",
   "metadata": {},
   "source": [
    "## Feature Engineering"
   ]
  },
  {
   "cell_type": "code",
   "execution_count": 107,
   "metadata": {},
   "outputs": [],
   "source": [
    "df['Adult obesity'] = df['Adult obesity'].str.rstrip('%').astype(float)\n",
    "\n",
    "df.rename(columns={'Adult obesity': 'Adult obesity%'}, inplace=True)"
   ]
  },
  {
   "cell_type": "code",
   "execution_count": 108,
   "metadata": {},
   "outputs": [],
   "source": [
    "df['population_growth_rate'] = df['population_growth_rate'].apply(lambda x: f\"{x}%\" if not str(x).endswith('%') else x)\n"
   ]
  },
  {
   "cell_type": "code",
   "execution_count": 109,
   "metadata": {},
   "outputs": [],
   "source": [
    "df['population_growth_rate'] = df['population_growth_rate'].str.replace('%', '').str.replace('−', '-', regex=False).astype(float)\n",
    "\n",
    "df.rename(columns={'population_growth_rate': 'population growth rate%'}, inplace=True)\n"
   ]
  },
  {
   "cell_type": "code",
   "execution_count": 110,
   "metadata": {},
   "outputs": [],
   "source": [
    "df['Tobacco use'] = df['Tobacco use'].str.rstrip('%').astype(float)\n",
    "\n",
    "df.rename(columns={'Tobacco use': 'Tobacco use%'}, inplace=True)"
   ]
  },
  {
   "cell_type": "code",
   "execution_count": 111,
   "metadata": {},
   "outputs": [],
   "source": [
    "df['Prevalence of hypertension'] = df['Prevalence of hypertension'].str.rstrip('%').astype(float)\n",
    "\n",
    "df.rename(columns={'Prevalence of hypertension': 'Prevalence of hypertension%'}, inplace=True)"
   ]
  },
  {
   "cell_type": "markdown",
   "metadata": {},
   "source": [
    "## Handling Nulls"
   ]
  },
  {
   "cell_type": "code",
   "execution_count": 112,
   "metadata": {},
   "outputs": [
    {
     "data": {
      "text/plain": [
       "name                               0\n",
       "health_expenditure                50\n",
       "who_region                         0\n",
       "world_bank_income_level            0\n",
       "population growth rate%          700\n",
       "year                               0\n",
       "population                      1293\n",
       "life_expectancy                  425\n",
       "health_life_expectancy             0\n",
       "Number of new HIV infections    1500\n",
       "Suicide deaths                   300\n",
       "Adult obesity%                     0\n",
       "Tobacco use%                       0\n",
       "Alcohol consumption                0\n",
       "Prevalence of hypertension%        0\n",
       "dtype: int64"
      ]
     },
     "execution_count": 112,
     "metadata": {},
     "output_type": "execute_result"
    }
   ],
   "source": [
    "df.isnull().sum()"
   ]
  },
  {
   "cell_type": "code",
   "execution_count": 113,
   "metadata": {},
   "outputs": [],
   "source": [
    "# MICE\n",
    "from sklearn.experimental import enable_iterative_imputer\n",
    "from sklearn.impute import IterativeImputer\n",
    "\n",
    "\n",
    "columns_for_mice = ['health_expenditure', 'population', 'Number of new HIV infections', 'Suicide deaths']\n",
    "\n",
    "mice_imputer = IterativeImputer(max_iter=10, random_state=0,min_value=0)\n",
    "df[columns_for_mice] = mice_imputer.fit_transform(df[columns_for_mice])\n"
   ]
  },
  {
   "cell_type": "code",
   "execution_count": 114,
   "metadata": {},
   "outputs": [],
   "source": [
    "from sklearn.ensemble import RandomForestRegressor\n",
    "\n",
    "\n",
    "features = ['population', 'life_expectancy', 'health_expenditure', 'Suicide deaths', 'Adult obesity%', 'Tobacco use%']\n",
    "target = 'population growth rate%'\n",
    "\n",
    "train_data = df.dropna(subset=[target])\n",
    "\n",
    "X_train = train_data[features]\n",
    "y_train = train_data[target]\n",
    "\n",
    "\n",
    "rf = RandomForestRegressor(n_estimators=100, random_state=0)\n",
    "rf.fit(X_train, y_train)\n",
    "\n",
    "missing_data = df[df[target].isna()]\n",
    "\n",
    "X_missing = missing_data[features]\n",
    "\n",
    "predicted_values = rf.predict(X_missing)\n",
    "\n",
    "df.loc[df[target].isna(), target] = predicted_values"
   ]
  },
  {
   "cell_type": "code",
   "execution_count": 115,
   "metadata": {},
   "outputs": [],
   "source": [
    "from sklearn.ensemble import RandomForestRegressor\n",
    "\n",
    "\n",
    "features = ['population', 'health_expenditure', 'who_region', 'world_bank_income_level', 'Suicide deaths', \n",
    "            'Adult obesity%', 'Tobacco use%', 'Alcohol consumption', 'Prevalence of hypertension%']\n",
    "target = 'life_expectancy'\n",
    "\n",
    "train_data = df.dropna(subset=[target])\n",
    "\n",
    "X_train = train_data[features]\n",
    "y_train = train_data[target]\n",
    "\n",
    "rf = RandomForestRegressor(n_estimators=100, random_state=0)\n",
    "rf.fit(X_train, y_train)\n",
    "\n",
    "missing_data = df[df[target].isna()]\n",
    "\n",
    "X_missing = missing_data[features]\n",
    "\n",
    "predicted_values = rf.predict(X_missing)\n",
    "\n",
    "df.loc[df[target].isna(), target] = predicted_values\n",
    "\n"
   ]
  },
  {
   "cell_type": "code",
   "execution_count": 116,
   "metadata": {},
   "outputs": [
    {
     "data": {
      "text/plain": [
       "name                            0\n",
       "health_expenditure              0\n",
       "who_region                      0\n",
       "world_bank_income_level         0\n",
       "population growth rate%         0\n",
       "year                            0\n",
       "population                      0\n",
       "life_expectancy                 0\n",
       "health_life_expectancy          0\n",
       "Number of new HIV infections    0\n",
       "Suicide deaths                  0\n",
       "Adult obesity%                  0\n",
       "Tobacco use%                    0\n",
       "Alcohol consumption             0\n",
       "Prevalence of hypertension%     0\n",
       "dtype: int64"
      ]
     },
     "execution_count": 116,
     "metadata": {},
     "output_type": "execute_result"
    }
   ],
   "source": [
    "df.isna().sum()"
   ]
  },
  {
   "cell_type": "code",
   "execution_count": 117,
   "metadata": {},
   "outputs": [],
   "source": [
    "df.to_csv(\"processed_data.csv\",index=False)"
   ]
  },
  {
   "cell_type": "code",
   "execution_count": null,
   "metadata": {},
   "outputs": [],
   "source": []
  }
 ],
 "metadata": {
  "kernelspec": {
   "display_name": "env",
   "language": "python",
   "name": "python3"
  },
  "language_info": {
   "codemirror_mode": {
    "name": "ipython",
    "version": 3
   },
   "file_extension": ".py",
   "mimetype": "text/x-python",
   "name": "python",
   "nbconvert_exporter": "python",
   "pygments_lexer": "ipython3",
   "version": "3.11.9"
  }
 },
 "nbformat": 4,
 "nbformat_minor": 2
}
