{
 "cells": [
  {
   "cell_type": "code",
   "execution_count": 2,
   "metadata": {},
   "outputs": [],
   "source": [
    "import pandas as pd"
   ]
  },
  {
   "cell_type": "code",
   "execution_count": 5,
   "metadata": {},
   "outputs": [],
   "source": [
    "df=pd.read_csv('worldBankData/enviorment.csv')"
   ]
  },
  {
   "cell_type": "code",
   "execution_count": 6,
   "metadata": {},
   "outputs": [
    {
     "name": "stdout",
     "output_type": "stream",
     "text": [
      "Country Name\n",
      "who_region\n",
      "world_bank_income_level\n",
      "Year\n",
      "Carbon dioxide (CO2) emissions (total) excluding LULUCF (% change from 1990)\n",
      "Carbon dioxide (CO2) emissions (total) excluding LULUCF (Mt CO2e)\n",
      "Carbon dioxide (CO2) emissions excluding LULUCF per capita (t CO2e/capita)\n",
      "Carbon dioxide (CO2) emissions from Agriculture (Mt CO2e)\n",
      "Carbon dioxide (CO2) emissions from Building (Energy) (Mt CO2e)\n",
      "Carbon dioxide (CO2) emissions from Fugitive Emissions (Energy) (Mt CO2e)\n",
      "Carbon dioxide (CO2) emissions from Industrial Combustion (Energy) (Mt CO2e)\n",
      "Carbon dioxide (CO2) emissions from Industrial Processes (Mt CO2e)\n",
      "Carbon dioxide (CO2) emissions from Power Industry (Energy) (Mt CO2e)\n",
      "Carbon dioxide (CO2) emissions from Transport (Energy) (Mt CO2e)\n",
      "Carbon dioxide (CO2) emissions from Waste (Mt CO2e)\n",
      "Carbon dioxide (CO2) net fluxes from LULUCF - Deforestation (Mt CO2e)\n",
      "Carbon dioxide (CO2) net fluxes from LULUCF - Forest Land (Mt CO2e)\n",
      "Carbon dioxide (CO2) net fluxes from LULUCF - Organic Soil (Mt CO2e)\n",
      "Carbon dioxide (CO2) net fluxes from LULUCF - Other Land (Mt CO2e)\n",
      "Carbon dioxide (CO2) net fluxes from LULUCF - Total excluding non-tropical fires (Mt CO2e)\n",
      "Carbon intensity of GDP (kg CO2e per 2021 PPP $ of GDP)\n",
      "Carbon intensity of GDP (kg CO2e per constant 2015 US$ of GDP)\n",
      "Methane (CH4) emissions (total) excluding LULUCF (% change from 1990)\n",
      "Methane (CH4) emissions (total) excluding LULUCF (Mt CO2e)\n",
      "Methane (CH4) emissions from Agriculture (Mt CO2e)\n",
      "Methane (CH4) emissions from Building (Energy) (Mt CO2e)\n",
      "Methane (CH4) emissions from Fugitive Emissions (Energy) (Mt CO2e)\n",
      "Methane (CH4) emissions from Industrial Combustion (Energy) (Mt CO2e)\n",
      "Methane (CH4) emissions from Industrial Processes (Mt CO2e)\n",
      "Methane (CH4) emissions from Power Industry (Energy) (Mt CO2e)\n",
      "Methane (CH4) emissions from Transport (Energy) (Mt CO2e)\n",
      "Methane (CH4) emissions from Waste (Mt CO2e)\n",
      "Nitrous oxide (N2O) emissions (total) excluding LULUCF (% change from 1990)\n",
      "Nitrous oxide (N2O) emissions (total) excluding LULUCF (Mt CO2e)\n",
      "Nitrous oxide (N2O) emissions from Agriculture (Mt CO2e)\n",
      "Nitrous oxide (N2O) emissions from Building (Energy) (Mt CO2e)\n",
      "Nitrous oxide (N2O) emissions from Fugitive Emissions (Energy) (Mt CO2e)\n",
      "Nitrous oxide (N2O) emissions from Industrial Combustion (Energy) (Mt CO2e)\n",
      "Nitrous oxide (N2O) emissions from Industrial Processes (Mt CO2e)\n",
      "Nitrous oxide (N2O) emissions from Power Industry (Energy) (Mt CO2e)\n",
      "Nitrous oxide (N2O) emissions from Transport (Energy) (Mt CO2e)\n",
      "Nitrous oxide (N2O) emissions from Waste (Mt CO2e)\n",
      "Total greenhouse gas emissions excluding LULUCF (% change from 1990)\n",
      "Total greenhouse gas emissions excluding LULUCF (Mt CO2e)\n",
      "Total greenhouse gas emissions excluding LULUCF per capita (t CO2e/capita)\n",
      "Total greenhouse gas emissions including LULUCF (Mt CO2e)\n"
     ]
    }
   ],
   "source": [
    "for each in df.columns:\n",
    "    print(each)"
   ]
  },
  {
   "cell_type": "code",
   "execution_count": null,
   "metadata": {},
   "outputs": [],
   "source": []
  }
 ],
 "metadata": {
  "kernelspec": {
   "display_name": "env",
   "language": "python",
   "name": "python3"
  },
  "language_info": {
   "codemirror_mode": {
    "name": "ipython",
    "version": 3
   },
   "file_extension": ".py",
   "mimetype": "text/x-python",
   "name": "python",
   "nbconvert_exporter": "python",
   "pygments_lexer": "ipython3",
   "version": "3.12.6"
  }
 },
 "nbformat": 4,
 "nbformat_minor": 2
}
